{
 "cells": [
  {
   "cell_type": "code",
   "execution_count": 1,
   "metadata": {},
   "outputs": [],
   "source": [
    "from IPython.core.interactiveshell import InteractiveShell\n",
    "InteractiveShell.ast_node_interactivity = \"all\""
   ]
  },
  {
   "cell_type": "markdown",
   "metadata": {},
   "source": [
    "# Gingko example with simple toy data"
   ]
  },
  {
   "cell_type": "markdown",
   "metadata": {},
   "source": [
    "### Create some toy text data with a hierarchical structure"
   ]
  },
  {
   "cell_type": "code",
   "execution_count": 2,
   "metadata": {},
   "outputs": [],
   "source": [
    "import numpy as np"
   ]
  },
  {
   "cell_type": "code",
   "execution_count": 3,
   "metadata": {},
   "outputs": [],
   "source": [
    "test_indices = np.array([\n",
    "    [0,0,0,0,0,0,0,0]+[1,1,1,1,1,1,1,1]+[2,2,2,2,2,2,2,2],\n",
    "    [0,0,0,0,0,0,1,1]+[0,0,0,0,0,0,1,1]+[0,0,0,0,0,0,1,1],\n",
    "    [0,0,1,2,2,2,0,0]+[0,0,1,2,2,2,0,0]+[0,0,1,2,2,2,0,0],\n",
    "    [0,1,0,0,1,2,0,1]+[0,1,0,0,1,2,0,1]+[0,1,0,0,1,2,0,1]\n",
    "])\n",
    "\n",
    "test_data = (\n",
    "    ['hi','there','hello','how','are','you','im','good']\n",
    "    +['whats','up','hey','hows','it','going','not','bad']\n",
    "    +['hey','bruh','yo','whats','crackin','son','chillin','chillin']\n",
    ")"
   ]
  },
  {
   "cell_type": "markdown",
   "metadata": {},
   "source": [
    "### Gingko is fundamentally a COO-format n-dimensional sparse tensor"
   ]
  },
  {
   "cell_type": "code",
   "execution_count": 4,
   "metadata": {},
   "outputs": [],
   "source": [
    "from gingko import Gingko"
   ]
  },
  {
   "cell_type": "code",
   "execution_count": 7,
   "metadata": {
    "scrolled": false
   },
   "outputs": [
    {
     "name": "stdout",
     "output_type": "stream",
     "text": [
      "Check successful: indices match\n"
     ]
    },
    {
     "data": {
      "text/plain": [
       "array([[0, 0, 0, 0, 0, 0, 0, 0, 1, 1, 1, 1, 1, 1, 1, 1, 2, 2, 2, 2, 2, 2,\n",
       "        2, 2],\n",
       "       [0, 0, 0, 0, 0, 0, 1, 1, 0, 0, 0, 0, 0, 0, 1, 1, 0, 0, 0, 0, 0, 0,\n",
       "        1, 1],\n",
       "       [0, 0, 1, 2, 2, 2, 0, 0, 0, 0, 1, 2, 2, 2, 0, 0, 0, 0, 1, 2, 2, 2,\n",
       "        0, 0],\n",
       "       [0, 1, 0, 0, 1, 2, 0, 1, 0, 1, 0, 0, 1, 2, 0, 1, 0, 1, 0, 0, 1, 2,\n",
       "        0, 1]])"
      ]
     },
     "execution_count": 7,
     "metadata": {},
     "output_type": "execute_result"
    },
    {
     "data": {
      "text/plain": [
       "['hi',\n",
       " 'there',\n",
       " 'hello',\n",
       " 'how',\n",
       " 'are',\n",
       " 'you',\n",
       " 'im',\n",
       " 'good',\n",
       " 'whats',\n",
       " 'up',\n",
       " 'hey',\n",
       " 'hows',\n",
       " 'it',\n",
       " 'going',\n",
       " 'not',\n",
       " 'bad',\n",
       " 'hey',\n",
       " 'bruh',\n",
       " 'yo',\n",
       " 'whats',\n",
       " 'crackin',\n",
       " 'son',\n",
       " 'chillin',\n",
       " 'chillin']"
      ]
     },
     "execution_count": 7,
     "metadata": {},
     "output_type": "execute_result"
    }
   ],
   "source": [
    "tree = Gingko(indices=test_indices, values=test_data, check=True)\n",
    "\n",
    "tree.indices\n",
    "tree.values"
   ]
  },
  {
   "cell_type": "markdown",
   "metadata": {},
   "source": [
    "### ...but Gingko is sliceable"
   ]
  },
  {
   "cell_type": "code",
   "execution_count": 8,
   "metadata": {},
   "outputs": [
    {
     "data": {
      "text/plain": [
       "Gingko(indices=array([[0, 0, 0, 0, 0, 0, 0, 0],\n",
       "       [0, 0, 0, 0, 0, 0, 1, 1],\n",
       "       [0, 0, 1, 2, 2, 2, 0, 0],\n",
       "       [0, 1, 0, 0, 1, 2, 0, 1]]), values=['hi', 'there', 'hello', 'how', 'are', 'you', 'im', 'good'], ptrs=[array([0, 2]), array([0, 3, 4]), array([0, 2, 3, 6, 8])], check=False)"
      ]
     },
     "execution_count": 8,
     "metadata": {},
     "output_type": "execute_result"
    }
   ],
   "source": [
    "tree[0,:3,:3,:3]"
   ]
  },
  {
   "cell_type": "markdown",
   "metadata": {},
   "source": [
    "### ...and Gingko is fast"
   ]
  },
  {
   "cell_type": "code",
   "execution_count": 9,
   "metadata": {},
   "outputs": [
    {
     "name": "stdout",
     "output_type": "stream",
     "text": [
      "126 µs ± 1.39 µs per loop (mean ± std. dev. of 7 runs, 10000 loops each)\n"
     ]
    }
   ],
   "source": [
    "%%timeit\n",
    "\n",
    "tree[:2,:,:,:1]"
   ]
  }
 ],
 "metadata": {
  "kernelspec": {
   "display_name": "py36",
   "language": "python",
   "name": "py36"
  },
  "language_info": {
   "codemirror_mode": {
    "name": "ipython",
    "version": 3
   },
   "file_extension": ".py",
   "mimetype": "text/x-python",
   "name": "python",
   "nbconvert_exporter": "python",
   "pygments_lexer": "ipython3",
   "version": "3.6.12"
  }
 },
 "nbformat": 4,
 "nbformat_minor": 4
}
